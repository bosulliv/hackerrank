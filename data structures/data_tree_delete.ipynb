{
 "cells": [
  {
   "cell_type": "code",
   "execution_count": 266,
   "metadata": {},
   "outputs": [],
   "source": [
    "class Node(object):\n",
    "\n",
    "    def __init__(self, data = None, next = None):\n",
    "        self.data = data\n",
    "        self.next = next\n",
    "\n",
    "    def append(self, node):\n",
    "        if self.next is None:\n",
    "            self.next = node\n",
    "        else:\n",
    "            self.next.append(node)\n",
    "    \n",
    "    def print_node(self):\n",
    "        print(self.data)\n",
    "        if self.next is not None:\n",
    "            self.next.print_node()\n",
    "    \n",
    "    def delete(self, position):\n",
    "        \"\"\"\n",
    "        There are two strategies at work with this recursion:\n",
    "        \n",
    "        1. To all elements except the last, deletion involves swapping the\n",
    "           identify of the element to delete with the next in line - including\n",
    "           it's data. We haven't deleted it - we made it look like the next node\n",
    "           which then gets orphaned as we 'skip' over it.\n",
    "        \n",
    "        2. The last entry (self.next == None) needs a different approach.\n",
    "           We need to point the node BEFORE it to nothing.\n",
    "           Hence the check for position == 1\n",
    "        \"\"\"\n",
    "        if position == 0:\n",
    "            self.data = self.next.data\n",
    "            self.next = self.next.next\n",
    "        elif position == 1:\n",
    "            if self.next.next is None:\n",
    "                self.next = None\n",
    "            else:\n",
    "                self.next.delete(position-1)\n",
    "        else:\n",
    "            self.next.delete(position-1)"
   ]
  },
  {
   "cell_type": "code",
   "execution_count": 267,
   "metadata": {},
   "outputs": [],
   "source": [
    "n = Node(1)\n",
    "n.append(Node(2))\n",
    "n.append(Node(3))\n",
    "n.append(Node(4))"
   ]
  },
  {
   "cell_type": "code",
   "execution_count": 268,
   "metadata": {},
   "outputs": [
    {
     "name": "stdout",
     "output_type": "stream",
     "text": [
      "1\n",
      "2\n",
      "3\n",
      "4\n"
     ]
    }
   ],
   "source": [
    "n.print_node()"
   ]
  },
  {
   "cell_type": "code",
   "execution_count": 269,
   "metadata": {},
   "outputs": [
    {
     "name": "stdout",
     "output_type": "stream",
     "text": [
      "1\n",
      "3\n",
      "4\n"
     ]
    }
   ],
   "source": [
    "n.delete(1)\n",
    "n.print_node()"
   ]
  },
  {
   "cell_type": "code",
   "execution_count": 270,
   "metadata": {},
   "outputs": [],
   "source": [
    "def test_del(pos):\n",
    "    n = Node(1)\n",
    "    n.append(Node(2))\n",
    "    n.append(Node(3))\n",
    "    n.append(Node(4))\n",
    "    n.delete(pos)\n",
    "    n.print_node()"
   ]
  },
  {
   "cell_type": "code",
   "execution_count": 271,
   "metadata": {},
   "outputs": [
    {
     "name": "stdout",
     "output_type": "stream",
     "text": [
      "pos: 0\n",
      "2\n",
      "3\n",
      "4\n",
      "pos: 1\n",
      "1\n",
      "3\n",
      "4\n",
      "pos: 2\n",
      "1\n",
      "2\n",
      "4\n",
      "pos: 3\n",
      "1\n",
      "2\n",
      "3\n"
     ]
    }
   ],
   "source": [
    "for pos in range(4):\n",
    "    print(\"pos:\", pos)\n",
    "    test_del(pos)"
   ]
  },
  {
   "cell_type": "code",
   "execution_count": null,
   "metadata": {},
   "outputs": [],
   "source": [
    "# this works - but feels like I'm missing a trick...\n",
    "def Delete(head, position):\n",
    "    if position == 0:\n",
    "        if head.next is None:\n",
    "            head.data = None\n",
    "            head.next = None\n",
    "        else:\n",
    "            head.data = head.next.data\n",
    "            head.next = head.next.next\n",
    "        return head\n",
    "    elif position == 1:\n",
    "        if head.next.next is None:\n",
    "            head.next = None\n",
    "        else:\n",
    "            head.next = head.next.next\n",
    "        return head\n",
    "    else:\n",
    "        # needs iterative solution\n",
    "        # to delete position 3,\n",
    "        # iterate to position 2 and skip next\n",
    "        next_n = head\n",
    "        for i in range(position-1):\n",
    "            next_n = next_n.next\n",
    "        if next_n.next.next is None:\n",
    "            next_n.next = None\n",
    "        else:\n",
    "            next_n.next = next_n.next.next\n",
    "        return head"
   ]
  },
  {
   "cell_type": "code",
   "execution_count": null,
   "metadata": {},
   "outputs": [],
   "source": [
    "# And I was - you can use recursion.\n",
    "# Much nicer solution in comments\n",
    "# Notice that the head.next delegates to Delete to figure\n",
    "# out what the rest of the list should look like\n",
    "def Delete(head, position):\n",
    "    if position == 0:\n",
    "        return head.next\n",
    "    head.next = Delete(head.next, position-1)\n",
    "    return head"
   ]
  }
 ],
 "metadata": {
  "kernelspec": {
   "display_name": "Python 3",
   "language": "python",
   "name": "python3"
  },
  "language_info": {
   "codemirror_mode": {
    "name": "ipython",
    "version": 3
   },
   "file_extension": ".py",
   "mimetype": "text/x-python",
   "name": "python",
   "nbconvert_exporter": "python",
   "pygments_lexer": "ipython3",
   "version": "3.6.3"
  }
 },
 "nbformat": 4,
 "nbformat_minor": 2
}

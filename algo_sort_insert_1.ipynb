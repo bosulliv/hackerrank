{
 "cells": [
  {
   "cell_type": "code",
   "execution_count": 15,
   "metadata": {},
   "outputs": [
    {
     "name": "stdout",
     "output_type": "stream",
     "text": [
      "1 2 3 4 4\n",
      "1 2 3 3 4\n",
      "1 2 2 3 4\n",
      "1 1 2 3 4\n",
      "0 1 2 3 4\n"
     ]
    }
   ],
   "source": [
    "#!/bin/python3\n",
    "import sys\n",
    "\n",
    "def insertionSort1(n, arr):\n",
    "    # Complete this function\n",
    "    e = arr[-1]\n",
    "    arr = arr[0:-1]\n",
    "    for i in range(len(arr)):\n",
    "        pos = len(arr) - i - 1\n",
    "        if e < arr[pos]:\n",
    "            if pos == 0:\n",
    "                temp = arr[0:pos] + [arr[pos]] + arr[pos:]\n",
    "                temp = [str(i) for i in temp]\n",
    "                print(' '.join(temp))\n",
    "                \n",
    "                temp = [e] + arr\n",
    "                temp = [str(i) for i in temp]\n",
    "                print(' '.join(temp))\n",
    "            else:\n",
    "                temp = arr[0:pos] + [arr[pos]] + arr[pos:]\n",
    "                temp = [str(i) for i in temp]\n",
    "                print(' '.join(temp))\n",
    "        else:\n",
    "            temp = arr[0:pos+1] + [e] + arr[pos+1:]\n",
    "            temp = [str(i) for i in temp]\n",
    "            print(' '.join(temp))\n",
    "            break\n",
    "\n",
    "# The array is sorted\n",
    "if __name__ == \"__main__\":\n",
    "    n = int(input().strip())\n",
    "    arr = list(map(int, input().strip().split(' ')))\n",
    "    insertionSort1(n, arr)\n"
   ]
  },
  {
   "cell_type": "code",
   "execution_count": 8,
   "metadata": {},
   "outputs": [
    {
     "data": {
      "text/plain": [
       "range(1, 4)"
      ]
     },
     "execution_count": 8,
     "metadata": {},
     "output_type": "execute_result"
    }
   ],
   "source": [
    "range(1,4)"
   ]
  },
  {
   "cell_type": "code",
   "execution_count": 42,
   "metadata": {},
   "outputs": [
    {
     "data": {
      "text/plain": [
       "[1, 2, 4, 4, 5]"
      ]
     },
     "execution_count": 42,
     "metadata": {},
     "output_type": "execute_result"
    }
   ],
   "source": [
    "arr = [1,2,3,4,5]\n",
    "pos = 3\n",
    "arr[:pos-1] + [arr[pos]] + arr[pos:]"
   ]
  },
  {
   "cell_type": "code",
   "execution_count": 7,
   "metadata": {},
   "outputs": [
    {
     "name": "stdout",
     "output_type": "stream",
     "text": [
      "3\n",
      "[1, 2, 3, 4, 4]\n",
      "2\n",
      "[1, 2, 3, 3, 4]\n",
      "1\n",
      "[1, 2, 2, 3, 4]\n",
      "0\n",
      "[0, 1, 2, 3, 4]\n",
      "3\n",
      "[1, 2, 3, 4, 5]\n",
      "3\n",
      "[1, 2, 4, 5, 5]\n",
      "2\n",
      "[1, 2, 4, 4, 5]\n",
      "1\n",
      "[1, 2, 3, 4, 5]\n",
      "8\n",
      "[2, 3, 4, 5, 6, 7, 8, 9, 10, 10]\n",
      "7\n",
      "[2, 3, 4, 5, 6, 7, 8, 9, 9, 10]\n",
      "6\n",
      "[2, 3, 4, 5, 6, 7, 8, 8, 9, 10]\n",
      "5\n",
      "[2, 3, 4, 5, 6, 7, 7, 8, 9, 10]\n",
      "4\n",
      "[2, 3, 4, 5, 6, 6, 7, 8, 9, 10]\n",
      "3\n",
      "[2, 3, 4, 5, 5, 6, 7, 8, 9, 10]\n",
      "2\n",
      "[2, 3, 4, 4, 5, 6, 7, 8, 9, 10]\n",
      "1\n",
      "[2, 3, 3, 4, 5, 6, 7, 8, 9, 10]\n",
      "0\n",
      "[1, 2, 3, 4, 5, 6, 7, 8, 9, 10]\n"
     ]
    }
   ],
   "source": [
    "arr1 = [1, 2, 3, 4, 0]\n",
    "arr2 = [1, 2, 3, 4, 5]\n",
    "arr3 = [1, 2, 4, 5, 3]\n",
    "arr4 = [2, 3, 4, 5, 6, 7, 8, 9, 10, 1]\n",
    "\n",
    "insertionSort1(5, arr1)\n",
    "insertionSort1(5, arr2)\n",
    "insertionSort1(5, arr3)\n",
    "insertionSort1(5, arr4)"
   ]
  },
  {
   "cell_type": "code",
   "execution_count": null,
   "metadata": {},
   "outputs": [],
   "source": []
  }
 ],
 "metadata": {
  "kernelspec": {
   "display_name": "Python 3",
   "language": "python",
   "name": "python3"
  },
  "language_info": {
   "codemirror_mode": {
    "name": "ipython",
    "version": 3
   },
   "file_extension": ".py",
   "mimetype": "text/x-python",
   "name": "python",
   "nbconvert_exporter": "python",
   "pygments_lexer": "ipython3",
   "version": "3.6.3"
  }
 },
 "nbformat": 4,
 "nbformat_minor": 2
}

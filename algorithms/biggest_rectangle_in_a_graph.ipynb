{
 "cells": [
  {
   "cell_type": "code",
   "execution_count": 134,
   "metadata": {},
   "outputs": [
    {
     "name": "stdout",
     "output_type": "stream",
     "text": [
      "30\n"
     ]
    }
   ],
   "source": [
    "import random\n",
    "\n",
    "#random.seed(42)\n",
    "\n",
    "def create_graph(cols=10, max_height=20):\n",
    "    \"\"\"Create a random bar chart of width 1, and length cols.\"\"\"\n",
    "    height = [random.randint(0,max_height) for i in range(cols)]\n",
    "    width = [1 for i in range(cols)]\n",
    "    area = [height[i] * width[i] for i in range(cols)]\n",
    "    \n",
    "    return list(zip(height, width, area))\n",
    "\n",
    "def compress(graph, start_pos, count):\n",
    "    \"\"\"For the subset of graphs, find the min height and multuple by the sum of the widths\"\"\"\n",
    "    graph_subset = graph[start_pos:start_pos+count+1]\n",
    "    #print(\"graph_subset: \" +  str(graph_subset))\n",
    "    min = None\n",
    "    width = 0\n",
    "    for tuple in graph_subset:\n",
    "        h, w, a = tuple[0:3]\n",
    "        width += w\n",
    "        if min is None:\n",
    "            min = h\n",
    "        elif h < min:\n",
    "            min = h\n",
    "    return min * width\n",
    "\n",
    "def find_max(graph):\n",
    "    \"\"\"\n",
    "    Brute force algorithm to find the biggest rectangle in a graph.\n",
    "    From every position check the next positions, and calculate\n",
    "    the maximum area using compress(). Stop when this starts to reduce,\n",
    "    and move onto the next starting position. Also stop when any areas\n",
    "    are zero.\n",
    "    \n",
    "    It's time O(N^3) - or at best O(N^2.logN), space O(N).\n",
    "    \"\"\"\n",
    "    loop_max = []\n",
    "    size = len(graph)\n",
    "    for start in range(size):\n",
    "        largest = 0\n",
    "        end = size - start\n",
    "        #print(\"start: \" + str(start))\n",
    "        #print(\"end: \" + str(end))\n",
    "        for count in range(end):\n",
    "            area = compress(graph, start, count)\n",
    "            #print(\"area: \" + str(area))\n",
    "            if area == 0:\n",
    "                break\n",
    "            elif area > largest:\n",
    "                largest = area\n",
    "        loop_max.append(largest)\n",
    "    return max(loop_max)\n",
    "\n",
    "graph = create_graph(cols=5, max_height=10)\n",
    "print(find_max(graph))\n",
    "#print(graph)"
   ]
  },
  {
   "cell_type": "markdown",
   "metadata": {},
   "source": [
    "Let's create some unit tests:"
   ]
  },
  {
   "cell_type": "code",
   "execution_count": 136,
   "metadata": {},
   "outputs": [
    {
     "name": "stderr",
     "output_type": "stream",
     "text": [
      "..........\n",
      "----------------------------------------------------------------------\n",
      "Ran 10 tests in 0.023s\n",
      "\n",
      "OK\n"
     ]
    },
    {
     "data": {
      "text/plain": [
       "<unittest.runner.TextTestResult run=10 errors=0 failures=0>"
      ]
     },
     "execution_count": 136,
     "metadata": {},
     "output_type": "execute_result"
    }
   ],
   "source": [
    "import unittest\n",
    "\n",
    "class TestGraph(unittest.TestCase):\n",
    "        \n",
    "    def test_all_zero(self):\n",
    "        height = [0] * 10\n",
    "        width  = [1] * 10\n",
    "        area   = [0] * 10\n",
    "        graph  = list(zip(height, width, area))\n",
    "        self.assertEqual(find_max(graph), 0)\n",
    "\n",
    "    def test_all_1(self):\n",
    "        height = [1] * 10\n",
    "        width  = [1] * 10\n",
    "        area   = [1] * 10\n",
    "        graph  = list(zip(height, width, area))\n",
    "        self.assertEqual(find_max(graph), 10)\n",
    "        \n",
    "    def test_alternating_10(self):\n",
    "        height = [10, 0] * 5\n",
    "        width  = [1] * 10\n",
    "        area   = [height[i] * width[i] for i in range(10)]\n",
    "        graph  = list(zip(height, width, area))\n",
    "        self.assertEqual(find_max(graph), 10)\n",
    "        \n",
    "    def test_staircase_up_10(self):\n",
    "        height = list(range(11))\n",
    "        width  = [1] * 10\n",
    "        area   = [height[i] * width[i] for i in range(10)]\n",
    "        graph  = list(zip(height, width, area))\n",
    "        self.assertEqual(find_max(graph), 25)\n",
    "\n",
    "    def test_staircase_down_10(self):\n",
    "        height = list(range(9, -1, -1))\n",
    "        width  = [1] * 10\n",
    "        area   = [height[i] * width[i] for i in range(10)]\n",
    "        graph  = list(zip(height, width, area))\n",
    "        self.assertEqual(find_max(graph), 25)\n",
    "        \n",
    "    def test_teeth_10(self):\n",
    "        height = [0,10,10,0,21,0,5,6,6,5]\n",
    "        width  = [1] * 10\n",
    "        area   = [height[i] * width[i] for i in range(10)]\n",
    "        graph  = list(zip(height, width, area))\n",
    "        self.assertEqual(find_max(graph), 21)\n",
    "\n",
    "    def test_pyramid_10(self):\n",
    "        height = [0,1,2,3,4,4,3,2,1,0]\n",
    "        width  = [1] * 10\n",
    "        area   = [height[i] * width[i] for i in range(10)]\n",
    "        graph  = list(zip(height, width, area))\n",
    "        self.assertEqual(find_max(graph), 12)\n",
    "\n",
    "    def test_flipped_pyramid_10(self):\n",
    "        height = [4,3,2,1,0,0,1,2,3,4]\n",
    "        width  = [1] * 10\n",
    "        area   = [height[i] * width[i] for i in range(10)]\n",
    "        graph  = list(zip(height, width, area))\n",
    "        self.assertEqual(find_max(graph), 6)\n",
    "        \n",
    "    def test_tall_and_flat_10(self):\n",
    "        height = [10,0,0,0,0,2,2,2,2,2]\n",
    "        width  = [1] * 10\n",
    "        area   = [height[i] * width[i] for i in range(10)]\n",
    "        graph  = list(zip(height, width, area))\n",
    "        self.assertEqual(find_max(graph), 10)\n",
    "        \n",
    "    def test_sawtooth_10(self):\n",
    "        height = [3,9,18,9,3,9,18,9,3,9]\n",
    "        width  = [1] * 10\n",
    "        area   = [height[i] * width[i] for i in range(10)]\n",
    "        graph  = list(zip(height, width, area))\n",
    "        self.assertEqual(find_max(graph), 30)\n",
    "    \n",
    "\n",
    "a = TestGraph()\n",
    "suite = unittest.TestLoader().loadTestsFromModule(a)\n",
    "unittest.TextTestRunner().run(suite)"
   ]
  },
  {
   "cell_type": "markdown",
   "metadata": {},
   "source": [
    "A more efficient algorithm - we can take advantage of commutation. I can replace [3,6,3] with [3,3,3]. or 3 with a width 3.\n",
    "\n",
    "Find chunks we can compress. Then replace those entries with a single entry. e.g.\n",
    "```\n",
    "[2, 2, 0, 4, 5]\n",
    "[1, 1, 1, 1, 1]\n",
    "[2, 2, 0, 4, 5]\n",
    "```\n",
    "\n",
    "Compress the first two:\n",
    "```\n",
    "[2, 0, 4, 5]\n",
    "[2, 1, 1, 1]\n",
    "[4, 1, 4, 5]\n",
    "```\n",
    "\n",
    "Compress the last two:\n",
    "```\n",
    "[2, 0, 4]\n",
    "[2, 1, 2]\n",
    "[4, 0, 8]\n",
    "```\n",
    "\n",
    "No more compressions possible, pick the largest value:\n",
    "```\n",
    "[4]\n",
    "[2]\n",
    "[8]\n",
    "```"
   ]
  },
  {
   "cell_type": "code",
   "execution_count": null,
   "metadata": {
    "collapsed": true
   },
   "outputs": [],
   "source": []
  }
 ],
 "metadata": {
  "kernelspec": {
   "display_name": "Python 3",
   "language": "python",
   "name": "python3"
  },
  "language_info": {
   "codemirror_mode": {
    "name": "ipython",
    "version": 3
   },
   "file_extension": ".py",
   "mimetype": "text/x-python",
   "name": "python",
   "nbconvert_exporter": "python",
   "pygments_lexer": "ipython3",
   "version": "3.6.3"
  }
 },
 "nbformat": 4,
 "nbformat_minor": 2
}

{
 "cells": [
  {
   "cell_type": "code",
   "execution_count": 9,
   "metadata": {},
   "outputs": [
    {
     "name": "stdout",
     "output_type": "stream",
     "text": [
      "0\n",
      "22\n",
      "3443\n",
      "487548754897549875487544597\n"
     ]
    }
   ],
   "source": [
    "#!/bin/python3\n",
    "\n",
    "import sys\n",
    "\n",
    "def bigSorting(arr):\n",
    "    # Complete this function\n",
    "    arr.sort(key=int)\n",
    "    return arr\n",
    "\n",
    "if __name__ == \"__main__\":\n",
    "    n = int(input().strip())\n",
    "    arr = []\n",
    "    arr_i = 0\n",
    "    for arr_i in range(n):\n",
    "       arr_t = str(input().strip())\n",
    "       arr.append(arr_t)\n",
    "    result = bigSorting(arr)\n",
    "    print (\"\\n\".join(map(str, result)))"
   ]
  },
  {
   "cell_type": "markdown",
   "metadata": {},
   "source": [
    "Okay - so I cheat with the sort"
   ]
  },
  {
   "cell_type": "code",
   "execution_count": 5,
   "metadata": {},
   "outputs": [],
   "source": [
    "arr = [\"1111111\", \"3\", \"5\", \"8\"]\n",
    "arr.sort(key=int)"
   ]
  },
  {
   "cell_type": "code",
   "execution_count": 6,
   "metadata": {},
   "outputs": [
    {
     "data": {
      "text/plain": [
       "['3', '5', '8', '1111111']"
      ]
     },
     "execution_count": 6,
     "metadata": {},
     "output_type": "execute_result"
    }
   ],
   "source": [
    "arr"
   ]
  },
  {
   "cell_type": "code",
   "execution_count": null,
   "metadata": {},
   "outputs": [],
   "source": [
    "# My original version - was too slow for some of the tests\n",
    "# because it built two new lists - one as int, the next as\n",
    "# sorted.\n",
    "def slow_bigSorting(arr):\n",
    "    # Complete this function\n",
    "    arr_sort = sorted([int(x) for x in arr])\n",
    "    return arr_sort\n",
    "\n",
    "# doing all these in situ was much quicker - and all tests passed.\n",
    "def bigSorting(arr):\n",
    "    # Complete this function\n",
    "    arr.sort(key=int)\n",
    "    return arr\n",
    "\n",
    "if __name__ == \"__main__\":\n",
    "    n = int(input().strip())\n",
    "    arr = []\n",
    "    arr_i = 0\n",
    "    for arr_i in range(n):\n",
    "       arr_t = str(input().strip())\n",
    "       arr.append(arr_t)\n",
    "    result = bigSorting(arr)\n",
    "    print (\"\\n\".join(map(str, result)))"
   ]
  }
 ],
 "metadata": {
  "kernelspec": {
   "display_name": "Python 3",
   "language": "python",
   "name": "python3"
  },
  "language_info": {
   "codemirror_mode": {
    "name": "ipython",
    "version": 3
   },
   "file_extension": ".py",
   "mimetype": "text/x-python",
   "name": "python",
   "nbconvert_exporter": "python",
   "pygments_lexer": "ipython3",
   "version": "3.6.3"
  }
 },
 "nbformat": 4,
 "nbformat_minor": 2
}
